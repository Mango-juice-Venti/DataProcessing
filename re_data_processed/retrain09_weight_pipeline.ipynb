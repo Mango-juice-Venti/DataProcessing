{
 "cells": [
  {
   "cell_type": "markdown",
   "id": "b9097cec",
   "metadata": {},
   "source": [
    "# re_train_09 → weekday_weight 생성 파이프라인 (train만으로)\n",
    "\n",
    "**목표**\n",
    "- `re_train_09.csv` (또는 `retrain_09.csv`)만 있을 때, 메뉴×요일별 `weekday_weight`를 **train에서 계산한 실제 값**으로 확정하고,\n",
    "- 그 값을 **train 파일 맨 끝 컬럼**으로 붙인 `re_train_09_with_weight.csv`를 생성한다.\n",
    "- 동시에, 동일 수치를 test에 그대로 붙일 수 있도록 매핑 테이블 `weekday_weight_map.csv`도 만든다.\n",
    "\n",
    "**가중치 정의(편차 기반, 1~2 스케일)**\n",
    "- 각 메뉴에 대해: `편차 = (요일별 평균) - (해당 메뉴 전체 평균)`\n",
    "- 메뉴 내부 min-max 정규화: `weekday_weight = 1 + (dev - dev_min) / (dev_max - dev_min)`\n",
    "- 모든 요일이 동일해서 `dev_max == dev_min`인 경우, 해당 메뉴의 모든 요일 가중치는 `1.0`으로 설정\n",
    "- (0 값은 절대 나오지 않으며, 후속 단계에서 test에 붙일 때 매칭 실패분의 fallback도 1.0)\n",
    "\n",
    "---\n"
   ]
  },
  {
   "cell_type": "code",
   "execution_count": null,
   "id": "4d63d1e9",
   "metadata": {},
   "outputs": [],
   "source": [
    "import os, glob\n",
    "import numpy as np\n",
    "import pandas as pd"
   ]
  },
  {
   "cell_type": "markdown",
   "id": "f319315f",
   "metadata": {},
   "source": [
    "## 1) Train 로드 (`re_train_09.csv` 혹은 `retrain_09.csv`)"
   ]
  },
  {
   "cell_type": "code",
   "execution_count": null,
   "id": "b39eea06",
   "metadata": {},
   "outputs": [],
   "source": [
    "# 두 파일명 모두 대응\n",
    "possible_names = [\"re_train_09.csv\", \"retrain_09.csv\"]\n",
    "train_path = None\n",
    "for name in possible_names:\n",
    "    if os.path.exists(name):\n",
    "        train_path = name\n",
    "        break\n",
    "\n",
    "if train_path is None:\n",
    "    raise FileNotFoundError(\"re_train_09.csv / retrain_09.csv 중 하나가 현재 작업 디렉토리에 있어야 합니다.\")\n",
    "\n",
    "print(\"Using train file:\", train_path)\n",
    "df_train = pd.read_csv(train_path)\n",
    "print(\"Shape:\", df_train.shape)\n",
    "df_train.head()"
   ]
  },
  {
   "cell_type": "markdown",
   "id": "57309bb9",
   "metadata": {},
   "source": [
    "## 2) 유틸 함수: 요일 컬럼 생성"
   ]
  },
  {
   "cell_type": "code",
   "execution_count": null,
   "id": "19a8b185",
   "metadata": {},
   "outputs": [],
   "source": [
    "def add_weekday_col(df: pd.DataFrame) -> pd.DataFrame:\n",
    "    out = df.copy()\n",
    "    out['영업일자'] = pd.to_datetime(out['영업일자'])\n",
    "    out['요일'] = out['영업일자'].dt.dayofweek.map({0:'월',1:'화',2:'수',3:'목',4:'금',5:'토',6:'일'})\n",
    "    return out"
   ]
  },
  {
   "cell_type": "markdown",
   "id": "7bb9ea12",
   "metadata": {},
   "source": [
    "## 3) Train에서 (메뉴×요일) → weekday_weight 계산 (값 확정)"
   ]
  },
  {
   "cell_type": "code",
   "execution_count": null,
   "id": "71f51756",
   "metadata": {},
   "outputs": [],
   "source": [
    "def build_weight_map_from_train(df_train: pd.DataFrame) -> pd.DataFrame:\n",
    "    \"\"\"\n",
    "    입력 df_train에는 '영업일자', '영업장명_메뉴명', '매출수량' 컬럼이 있어야 한다.\n",
    "    산출물은 (영업장명_메뉴명, 요일, weekday_weight) 매핑 테이블.\n",
    "    \"\"\"\n",
    "    df = add_weekday_col(df_train)\n",
    "\n",
    "    # 메뉴×요일 평균\n",
    "    by_wk = (df.groupby(['영업장명_메뉴명','요일'], as_index=False)['매출수량']\n",
    "               .mean()\n",
    "               .rename(columns={'매출수량':'wk_mean'}))\n",
    "\n",
    "    # 메뉴 전체 평균\n",
    "    by_menu = (df.groupby('영업장명_메뉴명', as_index=False)['매출수량']\n",
    "                 .mean()\n",
    "                 .rename(columns={'매출수량':'overall_mean'}))\n",
    "\n",
    "    merged = by_wk.merge(by_menu, on='영업장명_메뉴명', how='left')\n",
    "    merged['dev'] = merged['wk_mean'] - merged['overall_mean']  # 방향성 있는 편차\n",
    "\n",
    "    # 메뉴 내부에서 1~2 스케일\n",
    "    def scale_1_2(g):\n",
    "        mn = g['dev'].min()\n",
    "        mx = g['dev'].max()\n",
    "        if np.isclose(mx, mn):\n",
    "            g['weekday_weight'] = 1.0  # 전부 동일하면 1.0\n",
    "        else:\n",
    "            g['weekday_weight'] = 1 + (g['dev'] - mn) / (mx - mn)\n",
    "        return g\n",
    "\n",
    "    weighted = merged.groupby('영업장명_메뉴명', group_keys=False).apply(scale_1_2)\n",
    "    weight_map = weighted[['영업장명_메뉴명','요일','weekday_weight']].copy()\n",
    "\n",
    "    # 안전 검사 (0 금지, NaN 금지)\n",
    "    if (weight_map['weekday_weight'] <= 0).any():\n",
    "        raise ValueError(\"weekday_weight에 0 이하 값이 포함되었습니다. 로직을 점검하세요.\")\n",
    "    if weight_map['weekday_weight'].isna().any():\n",
    "        raise ValueError(\"weekday_weight에 NaN이 포함되었습니다.\")\n",
    "\n",
    "    return weight_map\n",
    "\n",
    "weight_map = build_weight_map_from_train(df_train)\n",
    "weight_map.head()"
   ]
  },
  {
   "cell_type": "markdown",
   "id": "6fff6bb3",
   "metadata": {},
   "source": [
    "## 4) Train에 동일 값 부착 및 저장"
   ]
  },
  {
   "cell_type": "code",
   "execution_count": null,
   "id": "0a650ed5",
   "metadata": {},
   "outputs": [],
   "source": [
    "def attach_train_weight(df_any: pd.DataFrame, weight_map: pd.DataFrame) -> pd.DataFrame:\n",
    "    df = add_weekday_col(df_any)\n",
    "    out = df.merge(weight_map, on=['영업장명_메뉴명','요일'], how='left')\n",
    "\n",
    "    # 혹시라도 매칭에서 누락된 경우 1.0으로 대체 (0 금지)\n",
    "    out['weekday_weight'] = out['weekday_weight'].fillna(1.0)\n",
    "\n",
    "    # 요일 제거, weight 맨 끝\n",
    "    out = out.drop(columns=['요일'])\n",
    "    cols = [c for c in out.columns if c != 'weekday_weight'] + ['weekday_weight']\n",
    "    return out[cols]\n",
    "\n",
    "df_train_out = attach_train_weight(df_train, weight_map)\n",
    "\n",
    "# 저장 (소수 16자리 고정)\n",
    "train_out_path = \"re_train_09_with_weight.csv\"\n",
    "map_out_path = \"weekday_weight_map.csv\"\n",
    "df_train_out.to_csv(train_out_path, index=False, float_format='%.16f')\n",
    "weight_map.to_csv(map_out_path, index=False, float_format='%.16f')\n",
    "\n",
    "train_out_path, map_out_path, df_train_out.shape, weight_map.shape"
   ]
  },
  {
   "cell_type": "markdown",
   "id": "460e3ec1",
   "metadata": {},
   "source": [
    "## 5) Sanity Check (예시 확인)"
   ]
  },
  {
   "cell_type": "code",
   "execution_count": null,
   "id": "0727b164",
   "metadata": {},
   "outputs": [],
   "source": [
    "# 예: 임의의 메뉴/요일('일') 가중치 확인\n",
    "if not df_train.empty:\n",
    "    sample_menu = df_train['영업장명_메뉴명'].iloc[0]\n",
    "    sample_day = '일'\n",
    "    wm_sample = weight_map.query(\"영업장명_메뉴명 == @sample_menu and 요일 == @sample_day\")\n",
    "    display(wm_sample)\n",
    "else:\n",
    "    print(\"Train is empty.\")"
   ]
  },
  {
   "cell_type": "markdown",
   "id": "94e074bc",
   "metadata": {},
   "source": [
    "## (선택) TEST 파일에 동일 값 부착 예시\n",
    "테스트 파일이 현재 폴더에 없으면 이 섹션은 아무 작업도 하지 않습니다."
   ]
  },
  {
   "cell_type": "code",
   "execution_count": null,
   "id": "42768347",
   "metadata": {},
   "outputs": [],
   "source": [
    "def attach_weight_to_tests_in_folder(folder_glob: str, weight_map: pd.DataFrame, outdir: str = \"test_with_weight\"):\n",
    "    os.makedirs(outdir, exist_ok=True)\n",
    "    test_files = glob.glob(folder_glob, recursive=True)\n",
    "    if not test_files:\n",
    "        print(\"No TEST files matched:\", folder_glob)\n",
    "        return []\n",
    "\n",
    "    saved = []\n",
    "    for path in test_files:\n",
    "        df_test = pd.read_csv(path)\n",
    "        df_test_out = attach_train_weight(df_test, weight_map)\n",
    "        base = os.path.basename(path).replace(\".csv\", \"_with_weight.csv\")\n",
    "        out_path = os.path.join(outdir, base)\n",
    "        df_test_out.to_csv(out_path, index=False, float_format='%.16f')\n",
    "        print(\"Saved:\", out_path)\n",
    "        saved.append(out_path)\n",
    "    return saved\n",
    "\n",
    "# 예시: 현재 경로/하위 경로에서 TEST_*_processed.csv 찾기 (없으면 PASS)\n",
    "_ = attach_weight_to_tests_in_folder(\"./**/TEST_*_processed.csv\", weight_map, outdir=\"test_with_weight\")"
   ]
  }
 ],
 "metadata": {},
 "nbformat": 4,
 "nbformat_minor": 5
}
